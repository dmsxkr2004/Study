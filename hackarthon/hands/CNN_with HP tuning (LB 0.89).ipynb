{
 "cells": [
  {
   "cell_type": "markdown",
   "id": "ad96fe0d",
   "metadata": {},
   "source": [
    "## 1. Import Library"
   ]
  },
  {
   "cell_type": "code",
   "execution_count": 1,
   "id": "b47b037c",
   "metadata": {},
   "outputs": [],
   "source": [
    "# Basic Library\n",
    "import pandas as pd\n",
    "import numpy as np\n",
    "import os\n",
    "\n",
    "# Preprocessing\n",
    "from sklearn.preprocessing import OneHotEncoder\n",
    "\n",
    "# HP Tuning\n",
    "import optuna\n",
    "from optuna import Trial\n",
    "from optuna.samplers import TPESampler\n",
    "from optuna.visualization import plot_contour, plot_optimization_history\n",
    "from optuna.visualization import plot_parallel_coordinate, plot_slice, plot_param_importances\n",
    "\n",
    "# Modeling\n",
    "from sklearn.model_selection import StratifiedKFold\n",
    "from sklearn.metrics import accuracy_score, log_loss\n",
    "import tensorflow as tf\n",
    "import keras\n",
    "from tensorflow.keras.layers import Conv2D, BatchNormalization, Dropout, Dense, GlobalAveragePooling2D\n",
    "from tensorflow.keras.models import Sequential, load_model\n",
    "from tensorflow.keras.optimizers import Adam\n",
    "from tensorflow.keras.callbacks import EarlyStopping, ModelCheckpoint\n",
    "os.environ['TF_CPP_MIN_LOG_LEVEL'] = '3'"
   ]
  },
  {
   "cell_type": "markdown",
   "id": "28b862fd",
   "metadata": {},
   "source": [
    "## 2. Import Data"
   ]
  },
  {
   "cell_type": "code",
   "execution_count": 2,
   "id": "e0698e87",
   "metadata": {},
   "outputs": [],
   "source": [
    "train = pd.read_csv(\"D:/_data/dacon/hand_gesture_data/train.csv\")\n",
    "test = pd.read_csv(\"D:/_data/dacon/hand_gesture_data/test.csv\")\n",
    "submission = pd.read_csv(\"D:/_data/dacon/hand_gesture_data/sample_submission.csv\")"
   ]
  },
  { 
   "cell_type": "markdown",
   "id": "aa995e20",
   "metadata": {},
   "source": [
    "## 3. CNN Modeling"
   ]
  },
  {
   "cell_type": "markdown",
   "id": "33f029a8",
   "metadata": {},
   "source": [
    "### (1) HP Tuning"
   ]
  },
  {
   "cell_type": "code",
   "execution_count": 3,
   "id": "b84e97fb",
   "metadata": {},
   "outputs": [],
   "source": [
    "train_x = train.iloc[:, 1:-1]\n",
    "test_x = test.iloc[:, 1:]\n",
    "\n",
    "train_x = np.array(train_x).reshape(-1, 8, 4, 1)\n",
    "test_x = np.array(test_x).reshape(-1, 8, 4, 1)\n",
    "\n",
    "ohe = OneHotEncoder(sparse = False)\n",
    "train_y = ohe.fit_transform(train[['target']])"
   ]
  },
  {
   "cell_type": "code",
   "execution_count": 4,
   "id": "e6c681fd",
   "metadata": {},
   "outputs": [],
   "source": [
    "def create_model(num_layer, mid_units, num_filters):\n",
    "    \n",
    "    model = Sequential()\n",
    "    model.add(Conv2D(filters=num_filters[0], kernel_size=(2, 2),\n",
    "                 activation=\"elu\",\n",
    "                 input_shape=(8, 4, 1)))\n",
    "    model.add(BatchNormalization())\n",
    "    #model.add(Dropout(dropout_rate[0]))\n",
    "    for i in range(1,num_layer):\n",
    "        model.add(Conv2D(filters=num_filters[i], kernel_size=(2, 2), padding=\"same\", activation=\"elu\"))\n",
    "        model.add(BatchNormalization())\n",
    "        #model.add(Dropout(dropout_rate[i+1]))\n",
    "            \n",
    "    model.add(GlobalAveragePooling2D())\n",
    "    model.add(Dense(mid_units, activation='relu'))\n",
    "    #model.add(Dropout(dropout_rate[-1]))\n",
    "    model.add(Dense(4, activation='softmax'))\n",
    "    \n",
    "    return model"
   ]
  },
  {
   "cell_type": "code",
   "execution_count": 5,
   "id": "213b83db",
   "metadata": {},
   "outputs": [],
   "source": [
    "def cnn_objective(trial: Trial) -> float:\n",
    "    \n",
    "    #clear_session\n",
    "    keras.backend.clear_session()\n",
    "    \n",
    "    #number of the convolution layer\n",
    "    num_layer = trial.suggest_int(\"num_layer\", 2, 3)\n",
    "    \n",
    "    #number of the unit\n",
    "    mid_units = int(trial.suggest_discrete_uniform(\"mid_units\", 30, 150, 10))\n",
    "    \n",
    "    #number of the each convolution layer filter\n",
    "    num_filters = [int(trial.suggest_discrete_uniform(\"num_filter_\"+str(i), 16, 256, 16)) for i in range(num_layer)]\n",
    "\n",
    "    #Dropout\n",
    "    #dropout_rate = trial.suggest_uniform('dropout_rate', 0.0, 0.5)\n",
    "    #dropout_rate = [int(trial.suggest_uniform(\"dropout_rate\"+str(ii), 0.0, 0.5)) for ii in range(num_layer+1)]\n",
    "    \n",
    "        \n",
    "    seed = 42\n",
    "    kfold = StratifiedKFold(n_splits=5, random_state = seed, shuffle = True) # Cross-validation cv=5\n",
    "    es = EarlyStopping(monitor=\"val_acc\", patience=5, mode=\"max\", verbose=0)\n",
    "    cv = np.zeros((train_x.shape[0], 4))\n",
    "\n",
    "    for n, (train_idx, val_idx) in enumerate(kfold.split(train_x, train.target)):\n",
    "\n",
    "        x_train, y_train = train_x[train_idx], train_y[train_idx]\n",
    "        x_val, y_val = train_x[val_idx], train_y[val_idx]\n",
    "        \n",
    "        mc = ModelCheckpoint(f\"model_{n+1}.h5\", save_best_only=True, monitor=\"val_acc\", mode=\"max\", verbose=0)\n",
    "        \n",
    "        model = create_model(num_layer, mid_units, num_filters)\n",
    "        \n",
    "        # Adam optimizer learning rate\n",
    "        optimizer = Adam(learning_rate=trial.suggest_uniform(\"learning_rate\", 0.0005, 0.005))\n",
    "        model.compile(optimizer=optimizer,\n",
    "                      loss=\"categorical_crossentropy\",\n",
    "                      metrics=[\"acc\"])\n",
    "        model.fit(x_train, y_train, validation_data=(x_val, y_val), epochs=100, batch_size=32, \n",
    "                  callbacks=[es,mc], verbose=None)\n",
    "        \n",
    "        best = load_model(f\"model_{n+1}.h5\")\n",
    "        \n",
    "        cv[val_idx, :] = best.predict(x_val)\n",
    "        \n",
    "    print('multi_logloss:', log_loss(train_y, cv))\n",
    "    print('accuracy_score:', accuracy_score(np.argmax(train_y, axis=1), np.argmax(cv, axis=1)))\n",
    "\n",
    "    \n",
    "    return accuracy_score(np.argmax(train_y, axis=1), np.argmax(cv, axis=1))"
   ]
  },
  {
   "cell_type": "code",
   "execution_count": 6,
   "id": "aae4ae44",
   "metadata": {
    "scrolled": false
   },
   "outputs": [
    {
     "name": "stderr",
     "output_type": "stream",
     "text": [
      "\u001b[32m[I 2022-03-16 00:09:34,995]\u001b[0m A new study created in memory with name: cnn_parameter_opt\u001b[0m\n",
      "\u001b[32m[I 2022-03-16 00:10:19,402]\u001b[0m Trial 0 finished with value: 0.867237687366167 and parameters: {'num_layer': 2, 'mid_units': 150.0, 'num_filter_0': 192.0, 'num_filter_1': 160.0, 'learning_rate': 0.0012020838819909643}. Best is trial 0 with value: 0.867237687366167.\u001b[0m\n"
     ]
    },
    {
     "name": "stdout",
     "output_type": "stream",
     "text": [
      "multi_logloss: 0.36963855168650284\n",
      "accuracy_score: 0.867237687366167\n"
     ]
    },
    {
     "name": "stderr",
     "output_type": "stream",
     "text": [
      "\u001b[32m[I 2022-03-16 00:10:44,516]\u001b[0m Trial 1 finished with value: 0.8650963597430407 and parameters: {'num_layer': 2, 'mid_units': 30.0, 'num_filter_0': 224.0, 'num_filter_1': 160.0, 'learning_rate': 0.003686326600082205}. Best is trial 0 with value: 0.867237687366167.\u001b[0m\n"
     ]
    },
    {
     "name": "stdout",
     "output_type": "stream",
     "text": [
      "multi_logloss: 0.39319038466156503\n",
      "accuracy_score: 0.8650963597430407\n"
     ]
    },
    {
     "name": "stderr",
     "output_type": "stream",
     "text": [
      "\u001b[32m[I 2022-03-16 00:11:14,079]\u001b[0m Trial 2 finished with value: 0.8753747323340471 and parameters: {'num_layer': 2, 'mid_units': 150.0, 'num_filter_0': 224.0, 'num_filter_1': 64.0, 'learning_rate': 0.001318212352431953}. Best is trial 2 with value: 0.8753747323340471.\u001b[0m\n"
     ]
    },
    {
     "name": "stdout",
     "output_type": "stream",
     "text": [
      "multi_logloss: 0.3821079551905093\n",
      "accuracy_score: 0.8753747323340471\n"
     ]
    },
    {
     "name": "stderr",
     "output_type": "stream",
     "text": [
      "\u001b[32m[I 2022-03-16 00:11:45,702]\u001b[0m Trial 3 finished with value: 0.8693790149892934 and parameters: {'num_layer': 2, 'mid_units': 60.0, 'num_filter_0': 144.0, 'num_filter_1': 112.0, 'learning_rate': 0.0018105311308911887}. Best is trial 2 with value: 0.8753747323340471.\u001b[0m\n"
     ]
    },
    {
     "name": "stdout",
     "output_type": "stream",
     "text": [
      "multi_logloss: 0.3826206180531082\n",
      "accuracy_score: 0.8693790149892934\n"
     ]
    },
    {
     "name": "stderr",
     "output_type": "stream",
     "text": [
      "\u001b[32m[I 2022-03-16 00:12:10,816]\u001b[0m Trial 4 finished with value: 0.8599571734475375 and parameters: {'num_layer': 3, 'mid_units': 40.0, 'num_filter_0': 80.0, 'num_filter_1': 96.0, 'num_filter_2': 128.0, 'learning_rate': 0.004033291826268562}. Best is trial 2 with value: 0.8753747323340471.\u001b[0m\n"
     ]
    },
    {
     "name": "stdout",
     "output_type": "stream",
     "text": [
      "multi_logloss: 0.4117440010984796\n",
      "accuracy_score: 0.8599571734475375\n"
     ]
    },
    {
     "name": "stderr",
     "output_type": "stream",
     "text": [
      "\u001b[32m[I 2022-03-16 00:12:35,681]\u001b[0m Trial 5 finished with value: 0.8668094218415417 and parameters: {'num_layer': 2, 'mid_units': 90.0, 'num_filter_0': 160.0, 'num_filter_1': 16.0, 'learning_rate': 0.003233951833556473}. Best is trial 2 with value: 0.8753747323340471.\u001b[0m\n"
     ]
    },
    {
     "name": "stdout",
     "output_type": "stream",
     "text": [
      "multi_logloss: 0.4042746665565178\n",
      "accuracy_score: 0.8668094218415417\n"
     ]
    },
    {
     "name": "stderr",
     "output_type": "stream",
     "text": [
      "\u001b[32m[I 2022-03-16 00:13:05,750]\u001b[0m Trial 6 finished with value: 0.8685224839400428 and parameters: {'num_layer': 2, 'mid_units': 30.0, 'num_filter_0': 256.0, 'num_filter_1': 256.0, 'learning_rate': 0.004137788066524076}. Best is trial 2 with value: 0.8753747323340471.\u001b[0m\n"
     ]
    },
    {
     "name": "stdout",
     "output_type": "stream",
     "text": [
      "multi_logloss: 0.3820161553762511\n",
      "accuracy_score: 0.8685224839400428\n"
     ]
    },
    {
     "name": "stderr",
     "output_type": "stream",
     "text": [
      "\u001b[32m[I 2022-03-16 00:13:34,520]\u001b[0m Trial 7 finished with value: 0.8706638115631692 and parameters: {'num_layer': 2, 'mid_units': 40.0, 'num_filter_0': 176.0, 'num_filter_1': 128.0, 'learning_rate': 0.0010491720568015048}. Best is trial 2 with value: 0.8753747323340471.\u001b[0m\n"
     ]
    },
    {
     "name": "stdout",
     "output_type": "stream",
     "text": [
      "multi_logloss: 0.3714855650622875\n",
      "accuracy_score: 0.8706638115631692\n"
     ]
    },
    {
     "name": "stderr",
     "output_type": "stream",
     "text": [
      "\u001b[32m[I 2022-03-16 00:14:00,143]\u001b[0m Trial 8 finished with value: 0.8702355460385439 and parameters: {'num_layer': 2, 'mid_units': 30.0, 'num_filter_0': 240.0, 'num_filter_1': 80.0, 'learning_rate': 0.0034813502795929194}. Best is trial 2 with value: 0.8753747323340471.\u001b[0m\n"
     ]
    },
    {
     "name": "stdout",
     "output_type": "stream",
     "text": [
      "multi_logloss: 0.380870634684188\n",
      "accuracy_score: 0.8702355460385439\n"
     ]
    },
    {
     "name": "stderr",
     "output_type": "stream",
     "text": [
      "\u001b[32m[I 2022-03-16 00:14:23,993]\u001b[0m Trial 9 finished with value: 0.8659528907922912 and parameters: {'num_layer': 2, 'mid_units': 90.0, 'num_filter_0': 144.0, 'num_filter_1': 48.0, 'learning_rate': 0.004863130824940514}. Best is trial 2 with value: 0.8753747323340471.\u001b[0m\n"
     ]
    },
    {
     "name": "stdout",
     "output_type": "stream",
     "text": [
      "multi_logloss: 0.38168729799759815\n",
      "accuracy_score: 0.8659528907922912\n"
     ]
    },
    {
     "name": "stderr",
     "output_type": "stream",
     "text": [
      "\u001b[32m[I 2022-03-16 00:14:50,955]\u001b[0m Trial 10 finished with value: 0.860813704496788 and parameters: {'num_layer': 3, 'mid_units': 150.0, 'num_filter_0': 16.0, 'num_filter_1': 224.0, 'num_filter_2': 256.0, 'learning_rate': 0.0022113183211331486}. Best is trial 2 with value: 0.8753747323340471.\u001b[0m\n"
     ]
    },
    {
     "name": "stdout",
     "output_type": "stream",
     "text": [
      "multi_logloss: 0.41866427124551375\n",
      "accuracy_score: 0.860813704496788\n"
     ]
    },
    {
     "name": "stderr",
     "output_type": "stream",
     "text": [
      "\u001b[32m[I 2022-03-16 00:15:23,204]\u001b[0m Trial 11 finished with value: 0.8650963597430407 and parameters: {'num_layer': 3, 'mid_units': 120.0, 'num_filter_0': 192.0, 'num_filter_1': 144.0, 'num_filter_2': 16.0, 'learning_rate': 0.000543332919286302}. Best is trial 2 with value: 0.8753747323340471.\u001b[0m\n"
     ]
    },
    {
     "name": "stdout",
     "output_type": "stream",
     "text": [
      "multi_logloss: 0.39074892138568523\n",
      "accuracy_score: 0.8650963597430407\n"
     ]
    },
    {
     "name": "stderr",
     "output_type": "stream",
     "text": [
      "\u001b[32m[I 2022-03-16 00:15:58,871]\u001b[0m Trial 12 finished with value: 0.8689507494646681 and parameters: {'num_layer': 2, 'mid_units': 120.0, 'num_filter_0': 96.0, 'num_filter_1': 64.0, 'learning_rate': 0.000553846717369572}. Best is trial 2 with value: 0.8753747323340471.\u001b[0m\n"
     ]
    },
    {
     "name": "stdout",
     "output_type": "stream",
     "text": [
      "multi_logloss: 0.37501467152519463\n",
      "accuracy_score: 0.8689507494646681\n"
     ]
    },
    {
     "name": "stderr",
     "output_type": "stream",
     "text": [
      "\u001b[32m[I 2022-03-16 00:16:30,142]\u001b[0m Trial 13 finished with value: 0.8749464668094219 and parameters: {'num_layer': 2, 'mid_units': 60.0, 'num_filter_0': 192.0, 'num_filter_1': 192.0, 'learning_rate': 0.001583635718754096}. Best is trial 2 with value: 0.8753747323340471.\u001b[0m\n"
     ]
    },
    {
     "name": "stdout",
     "output_type": "stream",
     "text": [
      "multi_logloss: 0.3627211978492796\n",
      "accuracy_score: 0.8749464668094219\n"
     ]
    },
    {
     "name": "stderr",
     "output_type": "stream",
     "text": [
      "\u001b[32m[I 2022-03-16 00:17:05,958]\u001b[0m Trial 14 finished with value: 0.8620985010706638 and parameters: {'num_layer': 3, 'mid_units': 70.0, 'num_filter_0': 208.0, 'num_filter_1': 208.0, 'num_filter_2': 256.0, 'learning_rate': 0.002227364168795375}. Best is trial 2 with value: 0.8753747323340471.\u001b[0m\n"
     ]
    },
    {
     "name": "stdout",
     "output_type": "stream",
     "text": [
      "multi_logloss: 0.42457641512232003\n",
      "accuracy_score: 0.8620985010706638\n"
     ]
    },
    {
     "name": "stderr",
     "output_type": "stream",
     "text": [
      "\u001b[32m[I 2022-03-16 00:17:35,554]\u001b[0m Trial 15 finished with value: 0.8762312633832976 and parameters: {'num_layer': 2, 'mid_units': 110.0, 'num_filter_0': 112.0, 'num_filter_1': 192.0, 'learning_rate': 0.001576915818593446}. Best is trial 15 with value: 0.8762312633832976.\u001b[0m\n"
     ]
    },
    {
     "name": "stdout",
     "output_type": "stream",
     "text": [
      "multi_logloss: 0.3683714315708182\n",
      "accuracy_score: 0.8762312633832976\n"
     ]
    },
    {
     "name": "stderr",
     "output_type": "stream",
     "text": [
      "\u001b[32m[I 2022-03-16 00:18:01,369]\u001b[0m Trial 16 finished with value: 0.8689507494646681 and parameters: {'num_layer': 2, 'mid_units': 120.0, 'num_filter_0': 112.0, 'num_filter_1': 16.0, 'learning_rate': 0.002586491129747755}. Best is trial 15 with value: 0.8762312633832976.\u001b[0m\n"
     ]
    },
    {
     "name": "stdout",
     "output_type": "stream",
     "text": [
      "multi_logloss: 0.36463355056570573\n",
      "accuracy_score: 0.8689507494646681\n"
     ]
    },
    {
     "name": "stderr",
     "output_type": "stream",
     "text": [
      "\u001b[32m[I 2022-03-16 00:18:26,528]\u001b[0m Trial 17 finished with value: 0.8732334047109208 and parameters: {'num_layer': 3, 'mid_units': 130.0, 'num_filter_0': 48.0, 'num_filter_1': 176.0, 'num_filter_2': 32.0, 'learning_rate': 0.0012981153573238232}. Best is trial 15 with value: 0.8762312633832976.\u001b[0m\n"
     ]
    },
    {
     "name": "stdout",
     "output_type": "stream",
     "text": [
      "multi_logloss: 0.37637088530046614\n",
      "accuracy_score: 0.8732334047109208\n"
     ]
    },
    {
     "name": "stderr",
     "output_type": "stream",
     "text": [
      "\u001b[32m[I 2022-03-16 00:18:53,373]\u001b[0m Trial 18 finished with value: 0.8723768736616703 and parameters: {'num_layer': 2, 'mid_units': 140.0, 'num_filter_0': 112.0, 'num_filter_1': 256.0, 'learning_rate': 0.0018952461739508682}. Best is trial 15 with value: 0.8762312633832976.\u001b[0m\n"
     ]
    },
    {
     "name": "stdout",
     "output_type": "stream",
     "text": [
      "multi_logloss: 0.36508908017453734\n",
      "accuracy_score: 0.8723768736616703\n"
     ]
    },
    {
     "name": "stderr",
     "output_type": "stream",
     "text": [
      "\u001b[32m[I 2022-03-16 00:19:23,213]\u001b[0m Trial 19 finished with value: 0.8710920770877945 and parameters: {'num_layer': 2, 'mid_units': 90.0, 'num_filter_0': 64.0, 'num_filter_1': 48.0, 'learning_rate': 0.0028560792229865035}. Best is trial 15 with value: 0.8762312633832976.\u001b[0m\n"
     ]
    },
    {
     "name": "stdout",
     "output_type": "stream",
     "text": [
      "multi_logloss: 0.35829051112947385\n",
      "accuracy_score: 0.8710920770877945\n"
     ]
    }
   ],
   "source": [
    "sampler = TPESampler(seed=42)\n",
    "cnn_study = optuna.create_study(study_name=\"cnn_parameter_opt\", direction=\"maximize\", sampler=sampler)\n",
    "cnn_study.optimize(cnn_objective, n_trials=20)"
   ]
  },
  {
   "cell_type": "markdown",
   "id": "ce6145d7",
   "metadata": {},
   "source": [
    "### (2) Visualization"
   ]
  },
  {
   "cell_type": "code",
   "execution_count": 7,
   "id": "84060598",
   "metadata": {},
   "outputs": [
    {
     "name": "stderr",
     "output_type": "stream",
     "text": [
      "C:\\Users\\bitcamp\\AppData\\Local\\Temp/ipykernel_9552/1430751235.py:1: ExperimentalWarning: plot_optimization_history is experimental (supported from v2.2.0). The interface can change in the future.\n",
      "  optuna.visualization.matplotlib.plot_optimization_history(cnn_study);\n"
     ]
    },
    {
     "data": {
      "image/png": "[encoded data removed]",
      "text/plain": [
       "<Figure size 432x288 with 1 Axes>"
      ]
     },
     "metadata": {},
     "output_type": "display_data"
    }
   ],
   "source": [
    "optuna.visualization.matplotlib.plot_optimization_history(cnn_study);"
   ]
  },
  {
   "cell_type": "code",
   "execution_count": 8,
   "id": "786d3ac8",
   "metadata": {},
   "outputs": [
    {
     "name": "stderr",
     "output_type": "stream",
     "text": [
      "C:\\Users\\bitcamp\\AppData\\Local\\Temp/ipykernel_9552/3633289961.py:1: ExperimentalWarning: plot_param_importances is experimental (supported from v2.2.0). The interface can change in the future.\n",
      "  optuna.visualization.matplotlib.plot_param_importances(cnn_study);\n"
     ]
    },
    {
     "data": {
      "image/png": "[encoded data removed]",
      "text/plain": [
       "<Figure size 432x288 with 1 Axes>"
      ]
     },
     "metadata": {},
     "output_type": "display_data"
    }
   ],
   "source": [
    "optuna.visualization.matplotlib.plot_param_importances(cnn_study);"
   ]
  },
  {
   "cell_type": "code",
   "execution_count": 9,
   "id": "4f606157",
   "metadata": {
    "scrolled": false
   },
   "outputs": [
    {
     "name": "stderr",
     "output_type": "stream",
     "text": [
      "C:\\Users\\bitcamp\\AppData\\Local\\Temp/ipykernel_9552/3328840784.py:1: ExperimentalWarning: plot_slice is experimental (supported from v2.2.0). The interface can change in the future.\n",
      "  optuna.visualization.matplotlib.plot_slice(cnn_study);\n"
     ]
    },
    {
     "data": {
      "image/png": "[encoded data removed]",
      "text/plain": [
       "<Figure size 1296x288 with 7 Axes>"
      ]
     },
     "metadata": {},
     "output_type": "display_data"
    }
   ],
   "source": [
    "optuna.visualization.matplotlib.plot_slice(cnn_study);"
   ]
  },
  {
   "cell_type": "markdown",
   "id": "4e771c15",
   "metadata": {},
   "source": [
    "### (3) Training"
   ]
  },
  {
   "cell_type": "code",
   "execution_count": 10,
   "id": "d47158a6",
   "metadata": {},
   "outputs": [
    {
     "name": "stdout",
     "output_type": "stream",
     "text": [
      "1 Fold Training.....\n",
      "1 Fold ACC of CNN = 0.8586723768736617\n",
      "\n",
      "2 Fold Training.....\n",
      "2 Fold ACC of CNN = 0.9036402569593148\n",
      "\n",
      "3 Fold Training.....\n",
      "3 Fold ACC of CNN = 0.867237687366167\n",
      "\n",
      "4 Fold Training.....\n",
      "4 Fold ACC of CNN = 0.8715203426124197\n",
      "\n",
      "5 Fold Training.....\n",
      "5 Fold ACC of CNN = 0.8715203426124197\n",
      "\n"
     ]
    }
   ],
   "source": [
    "cnn_acc = []\n",
    "cnn_pred = np.zeros((test_x.shape[0], 4))\n",
    "seed = 42\n",
    "skf = StratifiedKFold(n_splits=5, random_state=42, shuffle=True)\n",
    "es = EarlyStopping(monitor=\"val_acc\", patience=5, mode=\"max\", verbose=0)\n",
    "\n",
    "for i, (train_idx, val_idx) in enumerate(skf.split(train_x, train.target)):\n",
    "    print(f\"{i+1} Fold Training.....\")\n",
    "    x_train, y_train = train_x[train_idx], train_y[train_idx]\n",
    "    x_val, y_val = train_x[val_idx], train_y[val_idx]\n",
    "    \n",
    "    cnn = create_model(cnn_study.best_params['num_layer'], cnn_study.best_params['mid_units'], \n",
    "                      [cnn_study.best_params[f'num_filter_{i}'] for i in range(cnn_study.best_params['num_layer'])])\n",
    "    \n",
    "    # ModelCheckpoint Fold마다 갱신\n",
    "    mc = ModelCheckpoint(f\"model_{i+1}.h5\", save_best_only=True, monitor=\"val_acc\", mode=\"max\", verbose=0)\n",
    "    \n",
    "    # 모델 Complie\n",
    "    optimizer = Adam(learning_rate=cnn_study.best_params['learning_rate'])\n",
    "    cnn.compile(optimizer=optimizer, loss=\"categorical_crossentropy\", metrics=[\"acc\"])\n",
    "    cnn.fit(x_train, y_train, validation_data=(x_val, y_val), epochs=100, batch_size=32, callbacks=[es,mc], verbose=0)\n",
    "    \n",
    "    # 최고 성능 기록 모델\n",
    "    best = load_model(f\"model_{i+1}.h5\")\n",
    "    \n",
    "    val_pred = best.predict(x_val)\n",
    "    \n",
    "    val_cls = np.argmax(val_pred, axis=1)\n",
    "    \n",
    "    fold_cnn_acc = accuracy_score(np.argmax(y_val, axis=1), val_cls)\n",
    "    cnn_acc.append(fold_cnn_acc)\n",
    "    print(f\"{i+1} Fold ACC of CNN = {fold_cnn_acc}\\n\")\n",
    "    \n",
    "    fold_pred = best.predict(test_x) / skf.n_splits\n",
    "    cnn_pred += fold_pred"
   ]
  },
  {
   "cell_type": "code",
   "execution_count": 11,
   "id": "aafd4985",
   "metadata": {},
   "outputs": [
    {
     "data": {
      "text/plain": [
       "0.8745182012847966"
      ]
     },
     "execution_count": 11,
     "metadata": {},
     "output_type": "execute_result"
    }
   ],
   "source": [
    "np.mean(cnn_acc)"
   ]
  },
  {
   "cell_type": "markdown",
   "id": "a99e7dc7",
   "metadata": {},
   "source": [
    "## 5. Submission"
   ]
  },
  {
   "cell_type": "code",
   "execution_count": 12,
   "id": "267f6578",
   "metadata": {},
   "outputs": [
    {
     "data": {
      "text/plain": [
       "3    2341\n",
       "0    2339\n",
       "2    2333\n",
       "1    2330\n",
       "Name: target, dtype: int64"
      ]
     },
     "execution_count": 12,
     "metadata": {},
     "output_type": "execute_result"
    }
   ],
   "source": [
    "submission['target'] = np.argmax(cnn_pred, axis = 1)\n",
    "submission.to_csv('D:/Study/hackarthon/hands/submission.csv', index = False)\n",
    "submission.target.value_counts()"
   ]
  }
 ],
 "metadata": {
  "kernelspec": {
   "display_name": "Python 3 (ipykernel)",
   "language": "python",
   "name": "python3"
  },
  "language_info": {
   "codemirror_mode": {
    "name": "ipython",
    "version": 3
   },
   "file_extension": ".py",
   "mimetype": "text/x-python",
   "name": "python",
   "nbconvert_exporter": "python",
   "pygments_lexer": "ipython3",
   "version": "3.9.7"
  }
 },
 "nbformat": 4,
 "nbformat_minor": 5
}
 
