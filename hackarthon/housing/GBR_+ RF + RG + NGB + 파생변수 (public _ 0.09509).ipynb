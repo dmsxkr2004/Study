{
  "cells": [
    {
      "cell_type": "markdown",
      "metadata": {
        "id": "8sqscBsFX39n"
      },
      "source": [
        "# 집값 예측 경진대회\n",
        "\n",
        "#### 이전 EDA 및 코드 공유를 통해 알아낸 점\n",
        "- 결측치 없음\n",
        "- 데이터 수 및 피처 수가 많지 않아서 파생 변수 생성이 중요할 듯\n",
        "- 예측 변수 target의 외도 때문에 log로 변환 후 모델 학습이 용이할 듯\n",
        "- 데이터셋 품질 피처 4개, 년도 피처 3개, 면적 및 개수 피처 6개로 구성\n",
        "- 데이터 샘플이 적어서 (비율) 이상치 제거는 안하는 것이 좋을 듯\n",
        "- 품질 관련 변수의 카테고리 값을 라벨인코딩 통해 숫자로 매핑 필요 (크기 비교 가능)\n",
        "- Stacking 모델 잘 작동\n",
        "\n",
        "#### 변수 분류\n",
        "1) 품질 변수  \n",
        "- OverallQual : 전반적 재료와 마감 품질  \n",
        "- ExterQual : 외관 재료 품질  \n",
        "- KitchenQual : 부억 품질  \n",
        "- BsmtQual : 지하실 높이(품질) \n",
        "\n",
        "\n",
        "2) 년도 변수  \n",
        "- YearBuilt : 완공 연도  \n",
        "- YearRemodAdd : 리모델링 연도  \n",
        "- GarageYrBlt : 차고 완공 연도  \n",
        "\n",
        "3) 면적 변수  \n",
        "- TotalBsmtSF : 지하실 면적   \n",
        "- 1stFlrSF : 1층 면적   \n",
        "- GrLivArea : 지상층 생활 면적  \n",
        "- FullBath : 지상층 화장실 개수  \n",
        "- GarageCars: 차고 자리 개수  \n",
        "- GarageArea: 차고 면적   \n",
        " \n",
        "\n",
        "\n",
        "#### 주요 참고 코드 \n",
        "- 기세현 님의 〈[GB + RF + CB + NGB / Public : 0.09599](https://dacon.io/competitions/official/235869/codeshare/4266?page=1&dtype=recent)〉\n",
        "- 다복 님의 〈[RandomForest, GBM, DecisionTree, XGB, LGB 한번에 비교](https://dacon.io/competitions/official/235869/codeshare/4256?page=1&dtype=recent)〉\n",
        "- yun99 님의 〈[간단한 EDA + pycaret ensemble / Public 0.09795](https://dacon.io/competitions/official/235869/codeshare/4267?page=1&dtype=recent)〉\n",
        "\n",
        "이 외에도 코드 공유해주신 모든 분들께 감사드립니다 🙇‍♀️\n",
        "\n"
      ]
    },
    {
      "cell_type": "markdown",
      "metadata": {
        "id": "VzyrUYb2fbLA"
      },
      "source": [
        "# 1. 데이터 및 라이브러리 불러오기"
      ]
    },
    {
      "cell_type": "code",
      "execution_count": null,
      "metadata": {
        "id": "6TvwFESsWVV-"
      },
      "outputs": [],
      "source": [
        "import pandas as pd\n",
        "import os\n",
        "import os.path as osp\n",
        "import seaborn as sns\n",
        "import numpy as np\n",
        "import matplotlib.pyplot as plt\n",
        "import warnings\n",
        "\n",
        "warnings.filterwarnings('ignore')"
      ]
    },
    {
      "cell_type": "code",
      "execution_count": 4,
      "metadata": {
        "colab": {
          "base_uri": "https://localhost:8080/",
          "height": 302
        },
        "id": "N_06KQpbWWq2",
        "outputId": "54cddb1f-32d1-4eca-b883-639cb96dee25"
      },
      "outputs": [
        {
          "ename": "NameError",
          "evalue": "name 'pd' is not defined",
          "output_type": "error",
          "traceback": [
            "\u001b[1;31m---------------------------------------------------------------------------\u001b[0m",
            "\u001b[1;31mNameError\u001b[0m                                 Traceback (most recent call last)",
            "\u001b[1;32m~\\AppData\\Local\\Temp/ipykernel_4060/3052359621.py\u001b[0m in \u001b[0;36m<module>\u001b[1;34m\u001b[0m\n\u001b[0;32m      1\u001b[0m \u001b[0mdata_dir\u001b[0m \u001b[1;33m=\u001b[0m \u001b[1;34m'D:/_data/dacon/housing/'\u001b[0m\u001b[1;33m\u001b[0m\u001b[1;33m\u001b[0m\u001b[0m\n\u001b[0;32m      2\u001b[0m \u001b[1;33m\u001b[0m\u001b[0m\n\u001b[1;32m----> 3\u001b[1;33m \u001b[0mtrain\u001b[0m \u001b[1;33m=\u001b[0m \u001b[0mpd\u001b[0m\u001b[1;33m.\u001b[0m\u001b[0mread_csv\u001b[0m\u001b[1;33m(\u001b[0m\u001b[0mosp\u001b[0m\u001b[1;33m.\u001b[0m\u001b[0mjoin\u001b[0m\u001b[1;33m(\u001b[0m\u001b[0mdata_dir\u001b[0m\u001b[1;33m,\u001b[0m \u001b[1;34m'train.csv'\u001b[0m\u001b[1;33m)\u001b[0m\u001b[1;33m)\u001b[0m\u001b[1;33m\u001b[0m\u001b[1;33m\u001b[0m\u001b[0m\n\u001b[0m\u001b[0;32m      4\u001b[0m \u001b[0mtest\u001b[0m \u001b[1;33m=\u001b[0m \u001b[0mpd\u001b[0m\u001b[1;33m.\u001b[0m\u001b[0mread_csv\u001b[0m\u001b[1;33m(\u001b[0m\u001b[0mosp\u001b[0m\u001b[1;33m.\u001b[0m\u001b[0mjoin\u001b[0m\u001b[1;33m(\u001b[0m\u001b[0mdata_dir\u001b[0m\u001b[1;33m,\u001b[0m \u001b[1;34m'test.csv'\u001b[0m\u001b[1;33m)\u001b[0m\u001b[1;33m)\u001b[0m\u001b[1;33m\u001b[0m\u001b[1;33m\u001b[0m\u001b[0m\n\u001b[0;32m      5\u001b[0m \u001b[1;33m\u001b[0m\u001b[0m\n",
            "\u001b[1;31mNameError\u001b[0m: name 'pd' is not defined"
          ]
        }
      ],
      "source": [
        "data_dir = 'D:/_data/dacon/housing/'\n",
        "\n",
        "train = pd.read_csv(osp.join(data_dir, 'train.csv'))\n",
        "test = pd.read_csv(osp.join(data_dir, 'test.csv'))\n",
        "\n",
        "train.drop('id', axis=1, inplace=True) # id 제거\n",
        "test.drop('id', axis=1, inplace=True) # id 제거\n",
        "print(train.shape, test.shape)\n",
        "\n",
        "train.head()"
      ]
    },
    {
      "cell_type": "markdown",
      "metadata": {
        "id": "8ziQY99iWpQd"
      },
      "source": [
        "# 2. 전처리\n",
        "CHECK\n",
        "- 훈련 데이터 샘플은 1350개, 테스트는 1350개 많지 않다\n",
        "- 피처는 총 13개, 훈련 데이터 셋에는 예측하고자 하는 target 변수가 포함되어 있다."
      ]
    },
    {
      "cell_type": "code",
      "execution_count": null,
      "metadata": {
        "colab": {
          "base_uri": "https://localhost:8080/"
        },
        "id": "vgAD-HOeW-_P",
        "outputId": "fe49e965-96d1-4b17-9958-5d2e60c35a54"
      },
      "outputs": [
        {
          "name": "stdout",
          "output_type": "stream",
          "text": [
            "제거 전 : (1350, 14)\n",
            "제거 후 : (1349, 14)\n"
          ]
        }
      ],
      "source": [
        "# 중복값 제거\n",
        "print(\"제거 전 :\", train.shape)\n",
        "train = train.drop_duplicates()\n",
        "print(\"제거 후 :\", train.shape)"
      ]
    },
    {
      "cell_type": "markdown",
      "metadata": {
        "id": "nUOVUnNiXJEd"
      },
      "source": [
        "- `Garage Yr Blt` 이상치로 발견된 254번째 데이터에 대해서 변수 값 2207을 2007로 수정함"
      ]
    },
    {
      "cell_type": "code",
      "execution_count": null,
      "metadata": {
        "id": "C8lVgRzOXBTS"
      },
      "outputs": [],
      "source": [
        "# train[train['Garage Yr Blt']> 2050] # 254\n",
        "train.loc[254, 'Garage Yr Blt'] = 2007"
      ]
    },
    {
      "cell_type": "markdown",
      "metadata": {
        "id": "dhz6gYT9Xaq2"
      },
      "source": [
        "- 품질 관련 변수의 카테고리 Poor(Po) → Fa(Fair) →Typical/Average(TA)→ Good(Gd) → Excellent(Ex)이므로 각 1~5 값으로 매핑\n",
        "- `sklearn.preprocessing.LabelEncoder`를 사용할 수도 있지만 품질이 좋을수록 더 높은 값으로 지정해주기 위해 map 함수를 사용하여 직접 매핑 수행"
      ]
    },
    {
      "cell_type": "code",
      "execution_count": null,
      "metadata": {
        "colab": {
          "base_uri": "https://localhost:8080/",
          "height": 285
        },
        "id": "4HVHqEFcXEwt",
        "outputId": "d789ef3c-e999-4d22-c6b8-78394e651a36"
      },
      "outputs": [
        {
          "data": {
            "text/html": [
              "\n",
              "  <div id=\"df-6e02eac5-c100-4664-b02e-f9c0207150b7\">\n",
              "    <div class=\"colab-df-container\">\n",
              "      <div>\n",
              "<style scoped>\n",
              "    .dataframe tbody tr th:only-of-type {\n",
              "        vertical-align: middle;\n",
              "    }\n",
              "\n",
              "    .dataframe tbody tr th {\n",
              "        vertical-align: top;\n",
              "    }\n",
              "\n",
              "    .dataframe thead th {\n",
              "        text-align: right;\n",
              "    }\n",
              "</style>\n",
              "<table border=\"1\" class=\"dataframe\">\n",
              "  <thead>\n",
              "    <tr style=\"text-align: right;\">\n",
              "      <th></th>\n",
              "      <th>Overall Qual</th>\n",
              "      <th>Gr Liv Area</th>\n",
              "      <th>Exter Qual</th>\n",
              "      <th>Garage Cars</th>\n",
              "      <th>Garage Area</th>\n",
              "      <th>Kitchen Qual</th>\n",
              "      <th>Total Bsmt SF</th>\n",
              "      <th>1st Flr SF</th>\n",
              "      <th>Bsmt Qual</th>\n",
              "      <th>Full Bath</th>\n",
              "      <th>Year Built</th>\n",
              "      <th>Year Remod/Add</th>\n",
              "      <th>Garage Yr Blt</th>\n",
              "      <th>target</th>\n",
              "    </tr>\n",
              "  </thead>\n",
              "  <tbody>\n",
              "    <tr>\n",
              "      <th>0</th>\n",
              "      <td>10</td>\n",
              "      <td>2392</td>\n",
              "      <td>5</td>\n",
              "      <td>3</td>\n",
              "      <td>968</td>\n",
              "      <td>5</td>\n",
              "      <td>2392</td>\n",
              "      <td>2392</td>\n",
              "      <td>5</td>\n",
              "      <td>2</td>\n",
              "      <td>2003</td>\n",
              "      <td>2003</td>\n",
              "      <td>2003</td>\n",
              "      <td>386250</td>\n",
              "    </tr>\n",
              "    <tr>\n",
              "      <th>1</th>\n",
              "      <td>7</td>\n",
              "      <td>1352</td>\n",
              "      <td>4</td>\n",
              "      <td>2</td>\n",
              "      <td>466</td>\n",
              "      <td>4</td>\n",
              "      <td>1352</td>\n",
              "      <td>1352</td>\n",
              "      <td>5</td>\n",
              "      <td>2</td>\n",
              "      <td>2006</td>\n",
              "      <td>2007</td>\n",
              "      <td>2006</td>\n",
              "      <td>194000</td>\n",
              "    </tr>\n",
              "    <tr>\n",
              "      <th>2</th>\n",
              "      <td>5</td>\n",
              "      <td>900</td>\n",
              "      <td>3</td>\n",
              "      <td>1</td>\n",
              "      <td>288</td>\n",
              "      <td>3</td>\n",
              "      <td>864</td>\n",
              "      <td>900</td>\n",
              "      <td>3</td>\n",
              "      <td>1</td>\n",
              "      <td>1967</td>\n",
              "      <td>1967</td>\n",
              "      <td>1967</td>\n",
              "      <td>123000</td>\n",
              "    </tr>\n",
              "    <tr>\n",
              "      <th>3</th>\n",
              "      <td>5</td>\n",
              "      <td>1174</td>\n",
              "      <td>3</td>\n",
              "      <td>2</td>\n",
              "      <td>576</td>\n",
              "      <td>4</td>\n",
              "      <td>680</td>\n",
              "      <td>680</td>\n",
              "      <td>3</td>\n",
              "      <td>1</td>\n",
              "      <td>1900</td>\n",
              "      <td>2006</td>\n",
              "      <td>2000</td>\n",
              "      <td>135000</td>\n",
              "    </tr>\n",
              "    <tr>\n",
              "      <th>4</th>\n",
              "      <td>7</td>\n",
              "      <td>1958</td>\n",
              "      <td>4</td>\n",
              "      <td>3</td>\n",
              "      <td>936</td>\n",
              "      <td>4</td>\n",
              "      <td>1026</td>\n",
              "      <td>1026</td>\n",
              "      <td>4</td>\n",
              "      <td>2</td>\n",
              "      <td>2005</td>\n",
              "      <td>2005</td>\n",
              "      <td>2005</td>\n",
              "      <td>250000</td>\n",
              "    </tr>\n",
              "  </tbody>\n",
              "</table>\n",
              "</div>\n",
              "      <button class=\"colab-df-convert\" onclick=\"convertToInteractive('df-6e02eac5-c100-4664-b02e-f9c0207150b7')\"\n",
              "              title=\"Convert this dataframe to an interactive table.\"\n",
              "              style=\"display:none;\">\n",
              "        \n",
              "  <svg xmlns=\"http://www.w3.org/2000/svg\" height=\"24px\"viewBox=\"0 0 24 24\"\n",
              "       width=\"24px\">\n",
              "    <path d=\"M0 0h24v24H0V0z\" fill=\"none\"/>\n",
              "    <path d=\"M18.56 5.44l.94 2.06.94-2.06 2.06-.94-2.06-.94-.94-2.06-.94 2.06-2.06.94zm-11 1L8.5 8.5l.94-2.06 2.06-.94-2.06-.94L8.5 2.5l-.94 2.06-2.06.94zm10 10l.94 2.06.94-2.06 2.06-.94-2.06-.94-.94-2.06-.94 2.06-2.06.94z\"/><path d=\"M17.41 7.96l-1.37-1.37c-.4-.4-.92-.59-1.43-.59-.52 0-1.04.2-1.43.59L10.3 9.45l-7.72 7.72c-.78.78-.78 2.05 0 2.83L4 21.41c.39.39.9.59 1.41.59.51 0 1.02-.2 1.41-.59l7.78-7.78 2.81-2.81c.8-.78.8-2.07 0-2.86zM5.41 20L4 18.59l7.72-7.72 1.47 1.35L5.41 20z\"/>\n",
              "  </svg>\n",
              "      </button>\n",
              "      \n",
              "  <style>\n",
              "    .colab-df-container {\n",
              "      display:flex;\n",
              "      flex-wrap:wrap;\n",
              "      gap: 12px;\n",
              "    }\n",
              "\n",
              "    .colab-df-convert {\n",
              "      background-color: #E8F0FE;\n",
              "      border: none;\n",
              "      border-radius: 50%;\n",
              "      cursor: pointer;\n",
              "      display: none;\n",
              "      fill: #1967D2;\n",
              "      height: 32px;\n",
              "      padding: 0 0 0 0;\n",
              "      width: 32px;\n",
              "    }\n",
              "\n",
              "    .colab-df-convert:hover {\n",
              "      background-color: #E2EBFA;\n",
              "      box-shadow: 0px 1px 2px rgba(60, 64, 67, 0.3), 0px 1px 3px 1px rgba(60, 64, 67, 0.15);\n",
              "      fill: #174EA6;\n",
              "    }\n",
              "\n",
              "    [theme=dark] .colab-df-convert {\n",
              "      background-color: #3B4455;\n",
              "      fill: #D2E3FC;\n",
              "    }\n",
              "\n",
              "    [theme=dark] .colab-df-convert:hover {\n",
              "      background-color: #434B5C;\n",
              "      box-shadow: 0px 1px 3px 1px rgba(0, 0, 0, 0.15);\n",
              "      filter: drop-shadow(0px 1px 2px rgba(0, 0, 0, 0.3));\n",
              "      fill: #FFFFFF;\n",
              "    }\n",
              "  </style>\n",
              "\n",
              "      <script>\n",
              "        const buttonEl =\n",
              "          document.querySelector('#df-6e02eac5-c100-4664-b02e-f9c0207150b7 button.colab-df-convert');\n",
              "        buttonEl.style.display =\n",
              "          google.colab.kernel.accessAllowed ? 'block' : 'none';\n",
              "\n",
              "        async function convertToInteractive(key) {\n",
              "          const element = document.querySelector('#df-6e02eac5-c100-4664-b02e-f9c0207150b7');\n",
              "          const dataTable =\n",
              "            await google.colab.kernel.invokeFunction('convertToInteractive',\n",
              "                                                     [key], {});\n",
              "          if (!dataTable) return;\n",
              "\n",
              "          const docLinkHtml = 'Like what you see? Visit the ' +\n",
              "            '<a target=\"_blank\" href=https://colab.research.google.com/notebooks/data_table.ipynb>data table notebook</a>'\n",
              "            + ' to learn more about interactive tables.';\n",
              "          element.innerHTML = '';\n",
              "          dataTable['output_type'] = 'display_data';\n",
              "          await google.colab.output.renderOutput(dataTable, element);\n",
              "          const docLink = document.createElement('div');\n",
              "          docLink.innerHTML = docLinkHtml;\n",
              "          element.appendChild(docLink);\n",
              "        }\n",
              "      </script>\n",
              "    </div>\n",
              "  </div>\n",
              "  "
            ],
            "text/plain": [
              "   Overall Qual  Gr Liv Area  Exter Qual  ...  Year Remod/Add  Garage Yr Blt  target\n",
              "0            10         2392           5  ...            2003           2003  386250\n",
              "1             7         1352           4  ...            2007           2006  194000\n",
              "2             5          900           3  ...            1967           1967  123000\n",
              "3             5         1174           3  ...            2006           2000  135000\n",
              "4             7         1958           4  ...            2005           2005  250000\n",
              "\n",
              "[5 rows x 14 columns]"
            ]
          },
          "execution_count": 6,
          "metadata": {},
          "output_type": "execute_result"
        }
      ],
      "source": [
        "# 품질 관련 변수 → 숫자로 매핑\n",
        "qual_cols = train.dtypes[train.dtypes == np.object].index\n",
        "def label_encoder(df_, qual_cols):\n",
        "  df = df_.copy()\n",
        "  mapping={\n",
        "      'Ex':5, 'Gd':4, 'TA':3, 'Fa':2, 'Po':1\n",
        "  }\n",
        "  for col in qual_cols :\n",
        "    df[col] = df[col].map(mapping)\n",
        "  return df\n",
        "\n",
        "train = label_encoder(train, qual_cols)\n",
        "test = label_encoder(test, qual_cols)\n",
        "train.head()"
      ]
    },
    {
      "cell_type": "markdown",
      "metadata": {
        "id": "FGbwUSUBaQ8R"
      },
      "source": [
        "## 주요 파생 변수 아이디어 구상 과정\n",
        "\n",
        "\n",
        "#### 1. 지상층 생활 면적과 1층 면적의 차이는?   \n",
        "- 미국 주택 면적의 단위는 square feet(sf)  \n",
        "- 모든 데이터에서는 지상층 생활 면적이 1층 면적보다 크다.   \n",
        "- 지상층(Ground Living Area)는 땅 위에 있는 전체 면적을 이야기하는데 <U>차고와 지하실을 제외</U>하고 계산한다. \n",
        "- 따라서 `Gr Liv Area - 1st Flr SF >0` 일 경우에 2층이 있는 것이므로 2층 면적 피처와 2층의 존재 여부를 새로운 피처로 생성하자.\n",
        "\n",
        "cf. 참고 자료 : 미국 집 크기 계산 [링크](https://blog.daum.net/jk26922/28)\n",
        "\n",
        "#### 2. 집값 예측에 면적 관련 피처가 중요해보인다\n",
        "- 지상층 생활 면적에는 지하실과 차고를 제외하기 때문에 이를 더 다해 전체 면적에 해당하는 파생 변수를 만들자\n",
        "\n",
        "### 3. 지상층 생활 면적과 1층 면적이 동일한 집이 있고 그렇지 않은 집도 있다. 이것이 의미하는 바는?\n",
        "보통 차고가 1층에 있을텐데 (그렇지 않은 경우도 있을 수 있다. 하지만 일반적인 미국 주택을 떠올리자면...)  \n",
        "차고를 제외한 지상층 면적과 1층 면적이 동일하다면 차고는 주택 밖에 있는 것이 아닐까?  \n",
        "지상층 생활 면적과 1층 면적이 동일하지 않다면, 즉 차고가 밖에 있다면 1  그렇지 않다면 0인 파생 변수를 만들자\n",
        "\n",
        "## 파생 변수\n",
        "- 2층 면적 `2nd flr SF`= 지상층 생활 면적 - 1층 면적\n",
        "- 2층 여부 `2nd flr`= 1(지상층 생활 면적 - 1층 면적 > 0), 0(지상층 생활 면적 - 1층 면적 < 0)\n",
        "- 전체 면적 `Total SF` = 지상층 생활 면적 + 지하실 면적 + 차고 면적\n",
        "- 차고 밖/안 `Garage In/Out` = 1(지상층 생활 면적 != 1층 면적), 0(지상층 생활 면적 == 1층 면적) \n",
        "- 리모델링 연도 차 `Year Gap Remod`  = 리모델링 연도 - 완공 연도\n",
        "- 차고 자리당 면적 `Car Area`= 차고 면적/차고 자리 개수\n",
        "- 품질 합 `Sum Qual` = (전반적 + 부억 + 재료 + 지하실) 품질 "
      ]
    },
    {
      "cell_type": "code",
      "execution_count": null,
      "metadata": {
        "id": "YIwB_KSYa2Ri"
      },
      "outputs": [],
      "source": [
        "def feature_eng(data_):\n",
        "  data = data_.copy()\n",
        "  data['Year Gap Remod'] = data['Year Remod/Add'] - data['Year Built']\n",
        "  data['Car Area'] = data['Garage Area']/data['Garage Cars']\n",
        "  data['2nd flr SF'] = data['Gr Liv Area'] - data['1st Flr SF']\n",
        "  data['2nd flr'] = data['2nd flr SF'].apply(lambda x : 1 if x > 0 else 0)\n",
        "  data['Total SF'] = data[['Gr Liv Area',\"Garage Area\", \"Total Bsmt SF\"]].sum(axis=1)\n",
        "  data['Sum Qual'] = data[[\"Exter Qual\", \"Kitchen Qual\", \"Overall Qual\"]].sum(axis=1)\n",
        "  data['Garage InOut'] = data.apply(lambda x : 1 if x['Gr Liv Area'] != x['1st Flr SF'] else 0, axis=1)\n",
        "  return data\n",
        "\n",
        "train = feature_eng(train)\n",
        "test = feature_eng(test)"
      ]
    },
    {
      "cell_type": "markdown",
      "metadata": {
        "id": "qYnB-AeWfq5o"
      },
      "source": [
        "# 3. 모델링\n",
        "- 기세현 님이 공유해주신 모델링에서 선형 모델(LinearRegression, Lasso, Ridge)를 추가하여 수행한 후에 validation 셋의 성능을 비교하여 최종 결과를 산출했습니다. \n",
        " \n",
        "다시 한번 코드 공유해주신 기세현 님 감사드립니다!"
      ]
    },
    {
      "cell_type": "code",
      "execution_count": null,
      "metadata": {
        "id": "Ema0rVHEfnKI"
      },
      "outputs": [],
      "source": [
        "# ! pip install catboost\n",
        "# ! pip install ngboost"
      ]
    },
    {
      "cell_type": "code",
      "execution_count": null,
      "metadata": {
        "id": "_PYC-v7qfoOS"
      },
      "outputs": [],
      "source": [
        "from sklearn.ensemble import GradientBoostingRegressor, RandomForestRegressor\n",
        "from catboost import CatBoostRegressor, Pool\n",
        "from ngboost import NGBRegressor\n",
        "from sklearn.metrics import make_scorer\n",
        "from sklearn.model_selection import KFold"
      ]
    },
    {
      "cell_type": "code",
      "execution_count": null,
      "metadata": {
        "id": "9-WlKOrAf3ar"
      },
      "outputs": [],
      "source": [
        "# 평가 기준 정의\n",
        "def NMAE(true, pred):\n",
        "    mae = np.mean(np.abs(true-pred))\n",
        "    score = mae / np.mean(np.abs(true))\n",
        "    return score"
      ]
    },
    {
      "cell_type": "code",
      "execution_count": null,
      "metadata": {
        "id": "tLYlp80Cf5Lj"
      },
      "outputs": [],
      "source": [
        "nmae_score = make_scorer(NMAE, greater_is_better=False)\n",
        "kf = KFold(n_splits = 10, random_state = 42, shuffle = True)"
      ]
    },
    {
      "cell_type": "code",
      "execution_count": null,
      "metadata": {
        "id": "p8g9_CMFf6oC"
      },
      "outputs": [],
      "source": [
        "X = train.drop(['target'], axis = 1)\n",
        "y = np.log1p(train.target)\n",
        "\n",
        "target = test[X.columns]"
      ]
    },
    {
      "cell_type": "code",
      "execution_count": null,
      "metadata": {
        "colab": {
          "base_uri": "https://localhost:8080/"
        },
        "id": "zcjgxMZKf8uu",
        "outputId": "d4f01fb9-803b-4867-c7c8-5180dce36f23"
      },
      "outputs": [
        {
          "name": "stdout",
          "output_type": "stream",
          "text": [
            "1 FOLD Training.....\n",
            "1 FOLD NMAE = 0.0855513451370252\n",
            "\n",
            "2 FOLD Training.....\n",
            "2 FOLD NMAE = 0.1022031257206335\n",
            "\n",
            "3 FOLD Training.....\n",
            "3 FOLD NMAE = 0.09229735498844728\n",
            "\n",
            "4 FOLD Training.....\n",
            "4 FOLD NMAE = 0.11822494042457903\n",
            "\n",
            "5 FOLD Training.....\n",
            "5 FOLD NMAE = 0.08173765845290676\n",
            "\n",
            "6 FOLD Training.....\n",
            "6 FOLD NMAE = 0.10941202661958242\n",
            "\n",
            "7 FOLD Training.....\n",
            "7 FOLD NMAE = 0.097669462184245\n",
            "\n",
            "8 FOLD Training.....\n",
            "8 FOLD NMAE = 0.08952184236852667\n",
            "\n",
            "9 FOLD Training.....\n",
            "9 FOLD NMAE = 0.1010872166867319\n",
            "\n",
            "10 FOLD Training.....\n",
            "10 FOLD NMAE = 0.09907157927292878\n",
            "\n",
            "10FOLD Mean of NMAE = 0.09767765518556065 & std = 0.010442845840448132\n"
          ]
        }
      ],
      "source": [
        "from sklearn.linear_model import LinearRegression, Lasso, Ridge, ElasticNet\n",
        "\n",
        "# LinearRegression\n",
        "lr_pred = np.zeros(target.shape[0])\n",
        "lr_val = []\n",
        "for n, (tr_idx, val_idx) in enumerate(kf.split(X, y)) :\n",
        "    print(f'{n + 1} FOLD Training.....')\n",
        "    tr_x, tr_y = X.iloc[tr_idx], y.iloc[tr_idx]\n",
        "    val_x, val_y = X.iloc[val_idx], np.expm1(y.iloc[val_idx])\n",
        "    \n",
        "    lr = LinearRegression(normalize=True)\n",
        "    lr.fit(tr_x, tr_y)\n",
        "    \n",
        "    val_pred = np.expm1(lr.predict(val_x))\n",
        "    val_nmae = NMAE(val_y, val_pred)\n",
        "    lr_val.append(val_nmae)\n",
        "    print(f'{n + 1} FOLD NMAE = {val_nmae}\\n')\n",
        "    \n",
        "    target_data = Pool(data = target, label = None)\n",
        "    fold_pred = lr.predict(target) / 10\n",
        "    lr_pred += fold_pred\n",
        "print(f'10FOLD Mean of NMAE = {np.mean(lr_val)} & std = {np.std(lr_val)}')"
      ]
    },
    {
      "cell_type": "code",
      "execution_count": null,
      "metadata": {
        "colab": {
          "base_uri": "https://localhost:8080/"
        },
        "id": "jSARtdmVgMjf",
        "outputId": "c73946b0-b37a-4442-e4a0-031ceba330c2"
      },
      "outputs": [
        {
          "name": "stdout",
          "output_type": "stream",
          "text": [
            "1 FOLD Training.....\n",
            "1 FOLD NMAE = 0.08581885877289773\n",
            "\n",
            "2 FOLD Training.....\n",
            "2 FOLD NMAE = 0.10351488017384623\n",
            "\n",
            "3 FOLD Training.....\n",
            "3 FOLD NMAE = 0.09230885944304232\n",
            "\n",
            "4 FOLD Training.....\n",
            "4 FOLD NMAE = 0.11810498652284367\n",
            "\n",
            "5 FOLD Training.....\n",
            "5 FOLD NMAE = 0.0820310468874689\n",
            "\n",
            "6 FOLD Training.....\n",
            "6 FOLD NMAE = 0.10861654257511388\n",
            "\n",
            "7 FOLD Training.....\n",
            "7 FOLD NMAE = 0.09759836761926957\n",
            "\n",
            "8 FOLD Training.....\n",
            "8 FOLD NMAE = 0.08978354982132353\n",
            "\n",
            "9 FOLD Training.....\n",
            "9 FOLD NMAE = 0.10026834042526893\n",
            "\n",
            "10 FOLD Training.....\n",
            "10 FOLD NMAE = 0.0985271802984888\n",
            "\n",
            "10FOLD Mean of NMAE = 0.09765726125395635 & std = 0.010271475354535207\n"
          ]
        }
      ],
      "source": [
        "# Ridge\n",
        "rg_pred = np.zeros(target.shape[0])\n",
        "rg_val = []\n",
        "for n, (tr_idx, val_idx) in enumerate(kf.split(X, y)) :\n",
        "    print(f'{n + 1} FOLD Training.....')\n",
        "    tr_x, tr_y = X.iloc[tr_idx], y.iloc[tr_idx]\n",
        "    val_x, val_y = X.iloc[val_idx], np.expm1(y.iloc[val_idx])\n",
        "    \n",
        "    rg = Ridge()\n",
        "    rg.fit(tr_x, tr_y)\n",
        "    \n",
        "    val_pred = np.expm1(rg.predict(val_x))\n",
        "    val_nmae = NMAE(val_y, val_pred)\n",
        "    rg_val.append(val_nmae)\n",
        "    print(f'{n + 1} FOLD NMAE = {val_nmae}\\n')\n",
        "    \n",
        "    target_data = Pool(data = target, label = None)\n",
        "    fold_pred = rg.predict(target) / 10\n",
        "    rg_pred += fold_pred\n",
        "print(f'10FOLD Mean of NMAE = {np.mean(rg_val)} & std = {np.std(rg_val)}')"
      ]
    },
    {
      "cell_type": "code",
      "execution_count": null,
      "metadata": {
        "colab": {
          "base_uri": "https://localhost:8080/"
        },
        "id": "Q6-PKsiYgSgl",
        "outputId": "7ef94308-67e7-4378-b9c2-087271781622"
      },
      "outputs": [
        {
          "name": "stdout",
          "output_type": "stream",
          "text": [
            "1 FOLD Training.....\n",
            "1 FOLD NMAE = 0.10720303142887724\n",
            "\n",
            "2 FOLD Training.....\n",
            "2 FOLD NMAE = 0.12959674392596052\n",
            "\n",
            "3 FOLD Training.....\n",
            "3 FOLD NMAE = 0.1166612396192025\n",
            "\n",
            "4 FOLD Training.....\n",
            "4 FOLD NMAE = 0.1458172835882167\n",
            "\n",
            "5 FOLD Training.....\n",
            "5 FOLD NMAE = 0.11665789637732302\n",
            "\n",
            "6 FOLD Training.....\n",
            "6 FOLD NMAE = 0.11807020226297728\n",
            "\n",
            "7 FOLD Training.....\n",
            "7 FOLD NMAE = 0.11704670524793234\n",
            "\n",
            "8 FOLD Training.....\n",
            "8 FOLD NMAE = 0.09876644780019046\n",
            "\n",
            "9 FOLD Training.....\n",
            "9 FOLD NMAE = 0.11797180876405988\n",
            "\n",
            "10 FOLD Training.....\n",
            "10 FOLD NMAE = 0.13774710368962914\n",
            "\n",
            "10FOLD Mean of NMAE = 0.1205538462704369 & std = 0.013130211758909027\n"
          ]
        }
      ],
      "source": [
        "# Lasso\n",
        "ls_pred = np.zeros(target.shape[0])\n",
        "ls_val = []\n",
        "for n, (tr_idx, val_idx) in enumerate(kf.split(X, y)) :\n",
        "    print(f'{n + 1} FOLD Training.....')\n",
        "    tr_x, tr_y = X.iloc[tr_idx], y.iloc[tr_idx]\n",
        "    val_x, val_y = X.iloc[val_idx], np.expm1(y.iloc[val_idx])\n",
        "    \n",
        "    ls = Lasso()\n",
        "    ls.fit(tr_x, tr_y)\n",
        "    \n",
        "    val_pred = np.expm1(ls.predict(val_x))\n",
        "    val_nmae = NMAE(val_y, val_pred)\n",
        "    ls_val.append(val_nmae)\n",
        "    print(f'{n + 1} FOLD NMAE = {val_nmae}\\n')\n",
        "    \n",
        "    target_data = Pool(data = target, label = None)\n",
        "    fold_pred = ls.predict(target) / 10\n",
        "    ls_pred += fold_pred\n",
        "print(f'10FOLD Mean of NMAE = {np.mean(ls_val)} & std = {np.std(ls_val)}')"
      ]
    },
    {
      "cell_type": "code",
      "execution_count": null,
      "metadata": {
        "colab": {
          "base_uri": "https://localhost:8080/"
        },
        "id": "vQtbkQf5gWXW",
        "outputId": "193a604d-37de-41dd-92b1-4f4f6d82f67a"
      },
      "outputs": [
        {
          "name": "stdout",
          "output_type": "stream",
          "text": [
            "1 FOLD Training.....\n",
            "1 FOLD NMAE = 0.10305093143634164\n",
            "\n",
            "2 FOLD Training.....\n",
            "2 FOLD NMAE = 0.12558173918842255\n",
            "\n",
            "3 FOLD Training.....\n",
            "3 FOLD NMAE = 0.11322009529909433\n",
            "\n",
            "4 FOLD Training.....\n",
            "4 FOLD NMAE = 0.143886981680882\n",
            "\n",
            "5 FOLD Training.....\n",
            "5 FOLD NMAE = 0.1082342823229339\n",
            "\n",
            "6 FOLD Training.....\n",
            "6 FOLD NMAE = 0.11503659879679513\n",
            "\n",
            "7 FOLD Training.....\n",
            "7 FOLD NMAE = 0.10861234914793798\n",
            "\n",
            "8 FOLD Training.....\n",
            "8 FOLD NMAE = 0.0961107004222138\n",
            "\n",
            "9 FOLD Training.....\n",
            "9 FOLD NMAE = 0.11662096556348844\n",
            "\n",
            "10 FOLD Training.....\n",
            "10 FOLD NMAE = 0.13057396637280907\n",
            "\n",
            "10FOLD Mean of NMAE = 0.11609286102309188 & std = 0.013300359837437057\n"
          ]
        }
      ],
      "source": [
        "# ElasticNet\n",
        "el_pred = np.zeros(target.shape[0])\n",
        "el_val = []\n",
        "for n, (tr_idx, val_idx) in enumerate(kf.split(X, y)) :\n",
        "    print(f'{n + 1} FOLD Training.....')\n",
        "    tr_x, tr_y = X.iloc[tr_idx], y.iloc[tr_idx]\n",
        "    val_x, val_y = X.iloc[val_idx], np.expm1(y.iloc[val_idx])\n",
        "    \n",
        "    el = ElasticNet()\n",
        "    el.fit(tr_x, tr_y)\n",
        "    \n",
        "    val_pred = np.expm1(el.predict(val_x))\n",
        "    val_nmae = NMAE(val_y, val_pred)\n",
        "    el_val.append(val_nmae)\n",
        "    print(f'{n + 1} FOLD NMAE = {val_nmae}\\n')\n",
        "    \n",
        "    target_data = Pool(data = target, label = None)\n",
        "    fold_pred = el.predict(target) / 10\n",
        "    el_pred += fold_pred\n",
        "print(f'10FOLD Mean of NMAE = {np.mean(el_val)} & std = {np.std(el_val)}')"
      ]
    },
    {
      "cell_type": "code",
      "execution_count": null,
      "metadata": {
        "colab": {
          "base_uri": "https://localhost:8080/"
        },
        "id": "nGee2lewgNnL",
        "outputId": "e0486bff-0f01-4f62-8cee-b9809461a666"
      },
      "outputs": [
        {
          "name": "stdout",
          "output_type": "stream",
          "text": [
            "1 FOLD Training.....\n",
            "1 FOLD NMAE = 0.08559571468989596\n",
            "\n",
            "2 FOLD Training.....\n",
            "2 FOLD NMAE = 0.09890395803205482\n",
            "\n",
            "3 FOLD Training.....\n",
            "3 FOLD NMAE = 0.09687086992126713\n",
            "\n",
            "4 FOLD Training.....\n",
            "4 FOLD NMAE = 0.12149704793725016\n",
            "\n",
            "5 FOLD Training.....\n",
            "5 FOLD NMAE = 0.09930487557858571\n",
            "\n",
            "6 FOLD Training.....\n",
            "6 FOLD NMAE = 0.10072738591779712\n",
            "\n",
            "7 FOLD Training.....\n",
            "7 FOLD NMAE = 0.0952391814814313\n",
            "\n",
            "8 FOLD Training.....\n",
            "8 FOLD NMAE = 0.09444487669990737\n",
            "\n",
            "9 FOLD Training.....\n",
            "9 FOLD NMAE = 0.09276499577761807\n",
            "\n",
            "10 FOLD Training.....\n",
            "10 FOLD NMAE = 0.11465257508135572\n",
            "\n",
            "10FOLD Mean of NMAE = 0.10000014811171634 & std = 0.01001089200236599\n"
          ]
        }
      ],
      "source": [
        "# GradientBoostingRegressor\n",
        "gbr_pred = np.zeros(target.shape[0])\n",
        "gbr_val = []\n",
        "for n, (tr_idx, val_idx) in enumerate(kf.split(X, y)) :\n",
        "    print(f'{n + 1} FOLD Training.....')\n",
        "    tr_x, tr_y = X.iloc[tr_idx], y.iloc[tr_idx]\n",
        "    val_x, val_y = X.iloc[val_idx], np.expm1(y.iloc[val_idx])\n",
        "    \n",
        "    gbr = GradientBoostingRegressor(random_state = 42, max_depth = 4, learning_rate = 0.05, n_estimators = 1000)\n",
        "    gbr.fit(tr_x, tr_y)\n",
        "    \n",
        "    val_pred = np.expm1(gbr.predict(val_x))\n",
        "    val_nmae = NMAE(val_y, val_pred)\n",
        "    gbr_val.append(val_nmae)\n",
        "    print(f'{n + 1} FOLD NMAE = {val_nmae}\\n')\n",
        "    \n",
        "    fold_pred = gbr.predict(target) / 10\n",
        "    gbr_pred += fold_pred\n",
        "print(f'10FOLD Mean of NMAE = {np.mean(gbr_val)} & std = {np.std(gbr_val)}')"
      ]
    },
    {
      "cell_type": "code",
      "execution_count": null,
      "metadata": {
        "colab": {
          "base_uri": "https://localhost:8080/"
        },
        "id": "hEXZyI0wgke4",
        "outputId": "9f457d00-5c82-4ee2-9f4b-6e26a11bbefe"
      },
      "outputs": [
        {
          "name": "stdout",
          "output_type": "stream",
          "text": [
            "1 FOLD Training.....\n",
            "1 FOLD NMAE = 0.0894992847020689\n",
            "\n",
            "2 FOLD Training.....\n",
            "2 FOLD NMAE = 0.09652474280361749\n",
            "\n",
            "3 FOLD Training.....\n",
            "3 FOLD NMAE = 0.0968531737995619\n",
            "\n",
            "4 FOLD Training.....\n",
            "4 FOLD NMAE = 0.11796586961484536\n",
            "\n",
            "5 FOLD Training.....\n",
            "5 FOLD NMAE = 0.09132017185584299\n",
            "\n",
            "6 FOLD Training.....\n",
            "6 FOLD NMAE = 0.09886352213176591\n",
            "\n",
            "7 FOLD Training.....\n",
            "7 FOLD NMAE = 0.08828140015484487\n",
            "\n",
            "8 FOLD Training.....\n",
            "8 FOLD NMAE = 0.08553885538522918\n",
            "\n",
            "9 FOLD Training.....\n",
            "9 FOLD NMAE = 0.09595562577270407\n",
            "\n",
            "10 FOLD Training.....\n",
            "10 FOLD NMAE = 0.10741373337746232\n",
            "\n",
            "10FOLD Mean of NMAE = 0.0968216379597943 & std = 0.009210859123101276\n"
          ]
        }
      ],
      "source": [
        "# RandomForestRegressor\n",
        "rf_pred = np.zeros(target.shape[0])\n",
        "rf_val = []\n",
        "for n, (tr_idx, val_idx) in enumerate(kf.split(X, y)) :\n",
        "    print(f'{n + 1} FOLD Training.....')\n",
        "    tr_x, tr_y = X.iloc[tr_idx], y.iloc[tr_idx]\n",
        "    val_x, val_y = X.iloc[val_idx], np.expm1(y.iloc[val_idx])\n",
        "    \n",
        "    rf = RandomForestRegressor(random_state = 42, criterion = 'mae')\n",
        "    rf.fit(tr_x, tr_y)\n",
        "    \n",
        "    val_pred = np.expm1(rf.predict(val_x))\n",
        "    val_nmae = NMAE(val_y, val_pred)\n",
        "    rf_val.append(val_nmae)\n",
        "    print(f'{n + 1} FOLD NMAE = {val_nmae}\\n')\n",
        "    \n",
        "    fold_pred = rf.predict(target) / 10\n",
        "    rf_pred += fold_pred\n",
        "print(f'10FOLD Mean of NMAE = {np.mean(rf_val)} & std = {np.std(rf_val)}')"
      ]
    },
    {
      "cell_type": "code",
      "execution_count": null,
      "metadata": {
        "colab": {
          "base_uri": "https://localhost:8080/"
        },
        "id": "Gq0O1O7_gpNc",
        "outputId": "2e42d4a5-aebc-46bb-ed6e-387cf9d3072a"
      },
      "outputs": [
        {
          "name": "stdout",
          "output_type": "stream",
          "text": [
            "1 FOLD Training.....\n",
            "1 FOLD NMAE = 0.08007248450195956\n",
            "\n",
            "2 FOLD Training.....\n",
            "2 FOLD NMAE = 0.0983957884568228\n",
            "\n",
            "3 FOLD Training.....\n",
            "3 FOLD NMAE = 0.08982578975551057\n",
            "\n",
            "4 FOLD Training.....\n",
            "4 FOLD NMAE = 0.11179768332157361\n",
            "\n",
            "5 FOLD Training.....\n",
            "5 FOLD NMAE = 0.0917275744128398\n",
            "\n",
            "6 FOLD Training.....\n",
            "6 FOLD NMAE = 0.10195164470116333\n",
            "\n",
            "7 FOLD Training.....\n",
            "7 FOLD NMAE = 0.09615107996093228\n",
            "\n",
            "8 FOLD Training.....\n",
            "8 FOLD NMAE = 0.0874281780226981\n",
            "\n",
            "9 FOLD Training.....\n",
            "9 FOLD NMAE = 0.09348281835446484\n",
            "\n",
            "10 FOLD Training.....\n",
            "10 FOLD NMAE = 0.11067237557084522\n",
            "\n",
            "10FOLD Mean of NMAE = 0.09615054170588101 & std = 0.00946401635263995\n"
          ]
        }
      ],
      "source": [
        "# NGBRegressor\n",
        "ngb_pred = np.zeros(target.shape[0])\n",
        "ngb_val = []\n",
        "for n, (tr_idx, val_idx) in enumerate(kf.split(X, y)) :\n",
        "    print(f'{n + 1} FOLD Training.....')\n",
        "    tr_x, tr_y = X.iloc[tr_idx], y.iloc[tr_idx]\n",
        "    val_x, val_y = X.iloc[val_idx], np.expm1(y.iloc[val_idx])\n",
        "    \n",
        "    ngb = NGBRegressor(random_state = 42, n_estimators = 1000, verbose = 0, learning_rate = 0.03)\n",
        "    ngb.fit(tr_x, tr_y, val_x, val_y, early_stopping_rounds = 300)\n",
        "    \n",
        "    val_pred = np.expm1(ngb.predict(val_x))\n",
        "    val_nmae = NMAE(val_y, val_pred)\n",
        "    ngb_val.append(val_nmae)\n",
        "    print(f'{n + 1} FOLD NMAE = {val_nmae}\\n')\n",
        "    \n",
        "    target_data = Pool(data = target, label = None)\n",
        "    fold_pred = ngb.predict(target) / 10\n",
        "    ngb_pred += fold_pred\n",
        "print(f'10FOLD Mean of NMAE = {np.mean(ngb_val)} & std = {np.std(ngb_val)}')"
      ]
    },
    {
      "cell_type": "code",
      "execution_count": null,
      "metadata": {
        "colab": {
          "base_uri": "https://localhost:8080/"
        },
        "id": "5t5mFZkIgkql",
        "outputId": "26ad5306-f0ef-425e-b02a-fbf42ce1ca15"
      },
      "outputs": [
        {
          "name": "stdout",
          "output_type": "stream",
          "text": [
            "1 FOLD Training.....\n",
            "0:\tlearn: 0.2927358\ttest: 187886.6143316\tbest: 187886.6143316 (0)\ttotal: 47.9ms\tremaining: 2m 23s\n",
            "Stopped by overfitting detector  (750 iterations wait)\n",
            "\n",
            "bestTest = 187886.5529\n",
            "bestIteration = 249\n",
            "\n",
            "Shrink model to first 250 iterations.\n",
            "1 FOLD NMAE = 0.0868885625309975\n",
            "\n",
            "2 FOLD Training.....\n",
            "0:\tlearn: 0.2949061\ttest: 183672.7371379\tbest: 183672.7371379 (0)\ttotal: 1.4ms\tremaining: 4.2s\n",
            "Stopped by overfitting detector  (750 iterations wait)\n",
            "\n",
            "bestTest = 183672.7238\n",
            "bestIteration = 223\n",
            "\n",
            "Shrink model to first 224 iterations.\n",
            "2 FOLD NMAE = 0.09827366837706818\n",
            "\n",
            "3 FOLD Training.....\n",
            "0:\tlearn: 0.2877837\ttest: 190826.8666450\tbest: 190826.8666450 (0)\ttotal: 1.39ms\tremaining: 4.18s\n",
            "1000:\tlearn: 0.0665381\ttest: 190826.7975793\tbest: 190826.7975499 (975)\ttotal: 1.22s\tremaining: 2.44s\n",
            "2000:\tlearn: 0.0584153\ttest: 190826.7980664\tbest: 190826.7970898 (1325)\ttotal: 2.42s\tremaining: 1.21s\n",
            "Stopped by overfitting detector  (750 iterations wait)\n",
            "\n",
            "bestTest = 190826.7971\n",
            "bestIteration = 1325\n",
            "\n",
            "Shrink model to first 1326 iterations.\n",
            "3 FOLD NMAE = 0.08667230044944949\n",
            "\n",
            "4 FOLD Training.....\n",
            "0:\tlearn: 0.2921408\ttest: 176271.9525329\tbest: 176271.9525329 (0)\ttotal: 1.4ms\tremaining: 4.2s\n",
            "Stopped by overfitting detector  (750 iterations wait)\n",
            "\n",
            "bestTest = 176271.9518\n",
            "bestIteration = 38\n",
            "\n",
            "Shrink model to first 39 iterations.\n",
            "4 FOLD NMAE = 0.16858394916225053\n",
            "\n",
            "5 FOLD Training.....\n",
            "0:\tlearn: 0.2899271\ttest: 190352.2589345\tbest: 190352.2589345 (0)\ttotal: 1.41ms\tremaining: 4.22s\n",
            "1000:\tlearn: 0.0670177\ttest: 190352.1886476\tbest: 190352.1860164 (689)\ttotal: 1.2s\tremaining: 2.39s\n",
            "Stopped by overfitting detector  (750 iterations wait)\n",
            "\n",
            "bestTest = 190352.186\n",
            "bestIteration = 689\n",
            "\n",
            "Shrink model to first 690 iterations.\n",
            "5 FOLD NMAE = 0.08431902997335754\n",
            "\n",
            "6 FOLD Training.....\n",
            "0:\tlearn: 0.2883045\ttest: 197893.4576721\tbest: 197893.4576721 (0)\ttotal: 1.53ms\tremaining: 4.6s\n",
            "Stopped by overfitting detector  (750 iterations wait)\n",
            "\n",
            "bestTest = 197893.3604\n",
            "bestIteration = 193\n",
            "\n",
            "Shrink model to first 194 iterations.\n",
            "6 FOLD NMAE = 0.09291392328574584\n",
            "\n",
            "7 FOLD Training.....\n",
            "0:\tlearn: 0.2948939\ttest: 183106.7327561\tbest: 183106.7327561 (0)\ttotal: 1.65ms\tremaining: 4.96s\n",
            "1000:\tlearn: 0.0669383\ttest: 183106.6751584\tbest: 183106.6747463 (759)\ttotal: 1.21s\tremaining: 2.41s\n",
            "Stopped by overfitting detector  (750 iterations wait)\n",
            "\n",
            "bestTest = 183106.6747\n",
            "bestIteration = 759\n",
            "\n",
            "Shrink model to first 760 iterations.\n",
            "7 FOLD NMAE = 0.08617506834297908\n",
            "\n",
            "8 FOLD Training.....\n",
            "0:\tlearn: 0.2960750\ttest: 176932.3565117\tbest: 176932.3565117 (0)\ttotal: 1.45ms\tremaining: 4.34s\n",
            "Stopped by overfitting detector  (750 iterations wait)\n",
            "\n",
            "bestTest = 176932.3347\n",
            "bestIteration = 51\n",
            "\n",
            "Shrink model to first 52 iterations.\n",
            "8 FOLD NMAE = 0.11460630248390426\n",
            "\n",
            "9 FOLD Training.....\n",
            "0:\tlearn: 0.2925124\ttest: 177433.8403579\tbest: 177433.8403579 (0)\ttotal: 1.45ms\tremaining: 4.35s\n",
            "Stopped by overfitting detector  (750 iterations wait)\n",
            "\n",
            "bestTest = 177433.8252\n",
            "bestIteration = 59\n",
            "\n",
            "Shrink model to first 60 iterations.\n",
            "9 FOLD NMAE = 0.13476673719132629\n",
            "\n",
            "10 FOLD Training.....\n",
            "0:\tlearn: 0.2867427\ttest: 199044.3195880\tbest: 199044.3195880 (0)\ttotal: 1.49ms\tremaining: 4.46s\n",
            "1000:\tlearn: 0.0667859\ttest: 199044.2271761\tbest: 199044.2266067 (716)\ttotal: 1.22s\tremaining: 2.44s\n",
            "Stopped by overfitting detector  (750 iterations wait)\n",
            "\n",
            "bestTest = 199044.2266\n",
            "bestIteration = 716\n",
            "\n",
            "Shrink model to first 717 iterations.\n",
            "10 FOLD NMAE = 0.10948896117688285\n",
            "\n",
            "10FOLD Mean of NMAE = 0.10626885029739615 & std = 0.025812081167082727\n"
          ]
        }
      ],
      "source": [
        "# Catboost\n",
        "cb_pred = np.zeros(target.shape[0])\n",
        "cb_val = []\n",
        "for n, (tr_idx, val_idx) in enumerate(kf.split(X, y)) :\n",
        "    print(f'{n + 1} FOLD Training.....')\n",
        "    tr_x, tr_y = X.iloc[tr_idx], y.iloc[tr_idx]\n",
        "    val_x, val_y = X.iloc[val_idx], np.expm1(y.iloc[val_idx])\n",
        "    \n",
        "    tr_data = Pool(data = tr_x, label = tr_y)\n",
        "    val_data = Pool(data = val_x, label = val_y)\n",
        "    \n",
        "    cb = CatBoostRegressor(depth = 4, random_state = 42, loss_function = 'MAE', n_estimators = 3000, learning_rate = 0.03, verbose = 0)\n",
        "    cb.fit(tr_data, eval_set = val_data, early_stopping_rounds = 750, verbose = 1000)\n",
        "    \n",
        "    val_pred = np.expm1(cb.predict(val_x))\n",
        "    val_nmae = NMAE(val_y, val_pred)\n",
        "    cb_val.append(val_nmae)\n",
        "    print(f'{n + 1} FOLD NMAE = {val_nmae}\\n')\n",
        "    \n",
        "    target_data = Pool(data = target, label = None)\n",
        "    fold_pred = cb.predict(target) / 10\n",
        "    cb_pred += fold_pred\n",
        "print(f'10FOLD Mean of NMAE = {np.mean(cb_val)} & std = {np.std(cb_val)}')"
      ]
    },
    {
      "cell_type": "code",
      "execution_count": null,
      "metadata": {
        "colab": {
          "base_uri": "https://localhost:8080/"
        },
        "id": "WDgOzc-Wgkwd",
        "outputId": "7cb94bca-2c4e-4b6e-d66c-0d41f374f1bd"
      },
      "outputs": [
        {
          "name": "stdout",
          "output_type": "stream",
          "text": [
            "0.09767766\n",
            "0.09765726\n",
            "0.12055385\n",
            "0.11609286\n",
            "0.10000015\n",
            "0.09682164\n",
            "0.09615054\n",
            "0.10626885\n"
          ]
        }
      ],
      "source": [
        "# 검증 성능 확인하기\n",
        "val_list = [lr_val, rg_val, ls_val, el_val, gbr_val, rf_val, ngb_val, cb_val]\n",
        "for val in val_list :\n",
        "  print(\"{:.8f}\".format(np.mean(val))) "
      ]
    },
    {
      "cell_type": "code",
      "execution_count": null,
      "metadata": {
        "colab": {
          "base_uri": "https://localhost:8080/"
        },
        "id": "n35KH1P5glBG",
        "outputId": "9d27538e-2047-4a81-d750-368dd1c2602b"
      },
      "outputs": [
        {
          "data": {
            "text/plain": [
              "0       335327.454132\n",
              "1       127869.079338\n",
              "2       175267.374659\n",
              "3       260383.783974\n",
              "4       131900.302694\n",
              "            ...      \n",
              "1345    336105.645984\n",
              "1346    122929.347797\n",
              "1347     88532.731291\n",
              "1348    187209.476042\n",
              "1349    132793.228312\n",
              "Name: target, Length: 1350, dtype: float64"
            ]
          },
          "execution_count": 22,
          "metadata": {},
          "output_type": "execute_result"
        }
      ],
      "source": [
        "# submission 파일에 입력\n",
        "sub = pd.read_csv(osp.join(data_dir, 'sample_submission.csv'))\n",
        "sub['target'] = np.expm1((ngb_pred + rf_pred + rg_pred + gbr_pred) / 4)\n",
        "sub['target']"
      ]
    },
    {
      "cell_type": "code",
      "execution_count": null,
      "metadata": {
        "id": "FKd1Pk2MhHKS"
      },
      "outputs": [],
      "source": [
        "# csv 파일로 내보내기\n",
        "sub_dir = './housing/sub'\n",
        "sub.to_csv(osp.join(sub_dir, 'baseline.csv'), index=False) "
      ]
    }
  ],
  "metadata": {
    "colab": {
      "name": "housing_codeshare.ipynb",
      "provenance": []
    },
    "kernelspec": {
      "display_name": "Python 3",
      "name": "python3"
    },
    "language_info": {
      "codemirror_mode": {
        "name": "ipython",
        "version": 3
      },
      "file_extension": ".py",
      "mimetype": "text/x-python",
      "name": "python",
      "nbconvert_exporter": "python",
      "pygments_lexer": "ipython3",
      "version": "3.9.7"
    }
  },
  "nbformat": 4,
  "nbformat_minor": 0
}
